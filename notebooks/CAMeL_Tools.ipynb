{
  "nbformat": 4,
  "nbformat_minor": 0,
  "metadata": {
    "kernelspec": {
      "display_name": "Python 3",
      "language": "python",
      "name": "python3"
    },
    "language_info": {
      "codemirror_mode": {
        "name": "ipython",
        "version": 3
      },
      "file_extension": ".py",
      "mimetype": "text/x-python",
      "name": "python",
      "nbconvert_exporter": "python",
      "pygments_lexer": "ipython3",
      "version": "3.7.8"
    },
    "colab": {
      "provenance": [],
      "toc_visible": true,
      "include_colab_link": true
    }
  },
  "cells": [
    {
      "cell_type": "markdown",
      "metadata": {
        "id": "view-in-github",
        "colab_type": "text"
      },
      "source": [
        "<a href=\"https://colab.research.google.com/github/makkcg/arabert/blob/master/notebooks/CAMeL_Tools.ipynb\" target=\"_parent\"><img src=\"https://colab.research.google.com/assets/colab-badge.svg\" alt=\"Open In Colab\"/></a>"
      ]
    },
    {
      "cell_type": "markdown",
      "metadata": {
        "id": "JW2oOVmkJgg-"
      },
      "source": [
        "# Introduction\n",
        "\n",
        "This notebook provides a quick overview of the functionalities provided by [CAMeL Tools](https://github.com/CAMeL-Lab/camel_tools). While it doesn't cover every component in detail, it does provide a starting point for learning CAMeL Tools and navigating its APIs. For more detailed information please refer to the [CAMeL Tools documentation](https://camel-tools.readthedocs.io/en/latest/index.html)."
      ]
    },
    {
      "cell_type": "markdown",
      "metadata": {
        "id": "QOwO9Z7VdWf-"
      },
      "source": [
        "# Arabic NLP Refresher\n",
        "\n",
        "Before diving into CAMeL Tools, we recommend a quick refresher on Arabic NLP and the challenges it presents. [This webinar](https://wti.kaust.edu.sa/upcoming-events/Machine-Learning-Arabic-NLP-Webinar/ml-webinar-2020-keynote-1) presented by Dr. Nizar Habash provides a short introcuction on Arabic NLP as well as short examples of how CAMeL Tools can be used to solve various problems. A similar presentation of this webinar in Arabic is also available [here](https://www.youtube.com/watch?v=JQrmRvtx_VY).\n",
        "\n",
        "*Note: The examples in this talk may not be compatible with current or newer versions of CAMeL Tools.*\n"
      ]
    },
    {
      "cell_type": "markdown",
      "metadata": {
        "id": "flp2VnX-14Kz"
      },
      "source": [
        "# Installation and Setup\n",
        "\n",
        "The following steps are needed if you want to run the examples in this notebook on Google Colaboratory. If you want to run this notebook on your own machine, please follow the [installation instructions](https://camel-tools.readthedocs.io/en/latest/getting_started.html#installation) instead."
      ]
    },
    {
      "cell_type": "markdown",
      "metadata": {
        "id": "47wgvS4-6UOD"
      },
      "source": [
        "First, we install the CAMeL Tools Python package."
      ]
    },
    {
      "cell_type": "code",
      "metadata": {
        "id": "WLCWm2nj2LX6",
        "colab": {
          "base_uri": "https://localhost:8080/"
        },
        "outputId": "86f1ca4e-25ca-4c95-d181-a4337ab1938c"
      },
      "source": [
        "%pip install camel-tools"
      ],
      "execution_count": null,
      "outputs": [
        {
          "output_type": "stream",
          "name": "stdout",
          "text": [
            "Collecting camel-tools\n",
            "  Using cached camel_tools-1.5.5-py3-none-any.whl.metadata (10 kB)\n",
            "Requirement already satisfied: future in /usr/local/lib/python3.11/dist-packages (from camel-tools) (1.0.0)\n",
            "Requirement already satisfied: six in /usr/local/lib/python3.11/dist-packages (from camel-tools) (1.17.0)\n",
            "Collecting docopt (from camel-tools)\n",
            "  Using cached docopt-0.6.2.tar.gz (25 kB)\n",
            "  Preparing metadata (setup.py) ... \u001b[?25l\u001b[?25hdone\n",
            "Requirement already satisfied: cachetools in /usr/local/lib/python3.11/dist-packages (from camel-tools) (5.5.1)\n",
            "Requirement already satisfied: numpy<2 in /usr/local/lib/python3.11/dist-packages (from camel-tools) (1.26.4)\n",
            "Requirement already satisfied: scipy in /usr/local/lib/python3.11/dist-packages (from camel-tools) (1.13.1)\n",
            "Requirement already satisfied: pandas in /usr/local/lib/python3.11/dist-packages (from camel-tools) (2.2.2)\n",
            "Requirement already satisfied: scikit-learn in /usr/local/lib/python3.11/dist-packages (from camel-tools) (1.6.1)\n",
            "Collecting dill (from camel-tools)\n",
            "  Using cached dill-0.3.9-py3-none-any.whl.metadata (10 kB)\n",
            "Requirement already satisfied: torch>=2.0 in /usr/local/lib/python3.11/dist-packages (from camel-tools) (2.5.1+cu124)\n",
            "Collecting transformers<4.44.0,>=4.0 (from camel-tools)\n",
            "  Using cached transformers-4.43.4-py3-none-any.whl.metadata (43 kB)\n",
            "Requirement already satisfied: editdistance in /usr/local/lib/python3.11/dist-packages (from camel-tools) (0.8.1)\n",
            "Requirement already satisfied: requests in /usr/local/lib/python3.11/dist-packages (from camel-tools) (2.32.3)\n",
            "Collecting emoji (from camel-tools)\n",
            "  Using cached emoji-2.14.1-py3-none-any.whl.metadata (5.7 kB)\n",
            "Collecting pyrsistent (from camel-tools)\n",
            "  Using cached pyrsistent-0.20.0-cp311-cp311-manylinux_2_17_x86_64.manylinux2014_x86_64.whl.metadata (27 kB)\n",
            "Requirement already satisfied: tabulate in /usr/local/lib/python3.11/dist-packages (from camel-tools) (0.9.0)\n",
            "Requirement already satisfied: tqdm in /usr/local/lib/python3.11/dist-packages (from camel-tools) (4.67.1)\n",
            "Collecting muddler (from camel-tools)\n",
            "  Using cached muddler-0.1.3-py3-none-any.whl.metadata (7.5 kB)\n",
            "Collecting camel-kenlm>=2024.5.6 (from camel-tools)\n",
            "  Using cached camel-kenlm-2024.5.6.zip (556 kB)\n",
            "  Installing build dependencies ... \u001b[?25l\u001b[?25hdone\n",
            "  Getting requirements to build wheel ... \u001b[?25l\u001b[?25hdone\n",
            "  Preparing metadata (pyproject.toml) ... \u001b[?25l\u001b[?25hdone\n",
            "Requirement already satisfied: filelock in /usr/local/lib/python3.11/dist-packages (from torch>=2.0->camel-tools) (3.17.0)\n",
            "Requirement already satisfied: typing-extensions>=4.8.0 in /usr/local/lib/python3.11/dist-packages (from torch>=2.0->camel-tools) (4.12.2)\n",
            "Requirement already satisfied: networkx in /usr/local/lib/python3.11/dist-packages (from torch>=2.0->camel-tools) (3.4.2)\n",
            "Requirement already satisfied: jinja2 in /usr/local/lib/python3.11/dist-packages (from torch>=2.0->camel-tools) (3.1.5)\n",
            "Requirement already satisfied: fsspec in /usr/local/lib/python3.11/dist-packages (from torch>=2.0->camel-tools) (2024.10.0)\n",
            "Collecting nvidia-cuda-nvrtc-cu12==12.4.127 (from torch>=2.0->camel-tools)\n",
            "  Using cached nvidia_cuda_nvrtc_cu12-12.4.127-py3-none-manylinux2014_x86_64.whl.metadata (1.5 kB)\n",
            "Collecting nvidia-cuda-runtime-cu12==12.4.127 (from torch>=2.0->camel-tools)\n",
            "  Using cached nvidia_cuda_runtime_cu12-12.4.127-py3-none-manylinux2014_x86_64.whl.metadata (1.5 kB)\n",
            "Collecting nvidia-cuda-cupti-cu12==12.4.127 (from torch>=2.0->camel-tools)\n",
            "  Using cached nvidia_cuda_cupti_cu12-12.4.127-py3-none-manylinux2014_x86_64.whl.metadata (1.6 kB)\n",
            "Collecting nvidia-cudnn-cu12==9.1.0.70 (from torch>=2.0->camel-tools)\n",
            "  Using cached nvidia_cudnn_cu12-9.1.0.70-py3-none-manylinux2014_x86_64.whl.metadata (1.6 kB)\n",
            "Collecting nvidia-cublas-cu12==12.4.5.8 (from torch>=2.0->camel-tools)\n",
            "  Using cached nvidia_cublas_cu12-12.4.5.8-py3-none-manylinux2014_x86_64.whl.metadata (1.5 kB)\n",
            "Collecting nvidia-cufft-cu12==11.2.1.3 (from torch>=2.0->camel-tools)\n",
            "  Using cached nvidia_cufft_cu12-11.2.1.3-py3-none-manylinux2014_x86_64.whl.metadata (1.5 kB)\n",
            "Collecting nvidia-curand-cu12==10.3.5.147 (from torch>=2.0->camel-tools)\n",
            "  Using cached nvidia_curand_cu12-10.3.5.147-py3-none-manylinux2014_x86_64.whl.metadata (1.5 kB)\n",
            "Collecting nvidia-cusolver-cu12==11.6.1.9 (from torch>=2.0->camel-tools)\n",
            "  Using cached nvidia_cusolver_cu12-11.6.1.9-py3-none-manylinux2014_x86_64.whl.metadata (1.6 kB)\n",
            "Collecting nvidia-cusparse-cu12==12.3.1.170 (from torch>=2.0->camel-tools)\n",
            "  Using cached nvidia_cusparse_cu12-12.3.1.170-py3-none-manylinux2014_x86_64.whl.metadata (1.6 kB)\n",
            "Requirement already satisfied: nvidia-nccl-cu12==2.21.5 in /usr/local/lib/python3.11/dist-packages (from torch>=2.0->camel-tools) (2.21.5)\n",
            "Requirement already satisfied: nvidia-nvtx-cu12==12.4.127 in /usr/local/lib/python3.11/dist-packages (from torch>=2.0->camel-tools) (12.4.127)\n",
            "Collecting nvidia-nvjitlink-cu12==12.4.127 (from torch>=2.0->camel-tools)\n",
            "  Using cached nvidia_nvjitlink_cu12-12.4.127-py3-none-manylinux2014_x86_64.whl.metadata (1.5 kB)\n",
            "Requirement already satisfied: triton==3.1.0 in /usr/local/lib/python3.11/dist-packages (from torch>=2.0->camel-tools) (3.1.0)\n",
            "Requirement already satisfied: sympy==1.13.1 in /usr/local/lib/python3.11/dist-packages (from torch>=2.0->camel-tools) (1.13.1)\n",
            "Requirement already satisfied: mpmath<1.4,>=1.1.0 in /usr/local/lib/python3.11/dist-packages (from sympy==1.13.1->torch>=2.0->camel-tools) (1.3.0)\n",
            "Requirement already satisfied: huggingface-hub<1.0,>=0.23.2 in /usr/local/lib/python3.11/dist-packages (from transformers<4.44.0,>=4.0->camel-tools) (0.28.1)\n",
            "Requirement already satisfied: packaging>=20.0 in /usr/local/lib/python3.11/dist-packages (from transformers<4.44.0,>=4.0->camel-tools) (24.2)\n",
            "Requirement already satisfied: pyyaml>=5.1 in /usr/local/lib/python3.11/dist-packages (from transformers<4.44.0,>=4.0->camel-tools) (6.0.2)\n",
            "Requirement already satisfied: regex!=2019.12.17 in /usr/local/lib/python3.11/dist-packages (from transformers<4.44.0,>=4.0->camel-tools) (2024.11.6)\n",
            "Requirement already satisfied: safetensors>=0.4.1 in /usr/local/lib/python3.11/dist-packages (from transformers<4.44.0,>=4.0->camel-tools) (0.5.2)\n",
            "Collecting tokenizers<0.20,>=0.19 (from transformers<4.44.0,>=4.0->camel-tools)\n",
            "  Using cached tokenizers-0.19.1-cp311-cp311-manylinux_2_17_x86_64.manylinux2014_x86_64.whl.metadata (6.7 kB)\n",
            "Requirement already satisfied: python-dateutil>=2.8.2 in /usr/local/lib/python3.11/dist-packages (from pandas->camel-tools) (2.8.2)\n",
            "Requirement already satisfied: pytz>=2020.1 in /usr/local/lib/python3.11/dist-packages (from pandas->camel-tools) (2025.1)\n",
            "Requirement already satisfied: tzdata>=2022.7 in /usr/local/lib/python3.11/dist-packages (from pandas->camel-tools) (2025.1)\n",
            "Requirement already satisfied: charset-normalizer<4,>=2 in /usr/local/lib/python3.11/dist-packages (from requests->camel-tools) (3.4.1)\n",
            "Requirement already satisfied: idna<4,>=2.5 in /usr/local/lib/python3.11/dist-packages (from requests->camel-tools) (3.10)\n",
            "Requirement already satisfied: urllib3<3,>=1.21.1 in /usr/local/lib/python3.11/dist-packages (from requests->camel-tools) (2.3.0)\n",
            "Requirement already satisfied: certifi>=2017.4.17 in /usr/local/lib/python3.11/dist-packages (from requests->camel-tools) (2025.1.31)\n",
            "Requirement already satisfied: joblib>=1.2.0 in /usr/local/lib/python3.11/dist-packages (from scikit-learn->camel-tools) (1.4.2)\n",
            "Requirement already satisfied: threadpoolctl>=3.1.0 in /usr/local/lib/python3.11/dist-packages (from scikit-learn->camel-tools) (3.5.0)\n",
            "Requirement already satisfied: MarkupSafe>=2.0 in /usr/local/lib/python3.11/dist-packages (from jinja2->torch>=2.0->camel-tools) (3.0.2)\n",
            "Using cached camel_tools-1.5.5-py3-none-any.whl (124 kB)\n",
            "Using cached nvidia_cublas_cu12-12.4.5.8-py3-none-manylinux2014_x86_64.whl (363.4 MB)\n",
            "Using cached nvidia_cuda_cupti_cu12-12.4.127-py3-none-manylinux2014_x86_64.whl (13.8 MB)\n",
            "Using cached nvidia_cuda_nvrtc_cu12-12.4.127-py3-none-manylinux2014_x86_64.whl (24.6 MB)\n",
            "Using cached nvidia_cuda_runtime_cu12-12.4.127-py3-none-manylinux2014_x86_64.whl (883 kB)\n",
            "Downloading nvidia_cudnn_cu12-9.1.0.70-py3-none-manylinux2014_x86_64.whl (664.8 MB)\n",
            "\u001b[2K   \u001b[90m━━━━━━━━━━━━━━━━━━━━━━━━━━━━━━━━━━━━━━━━\u001b[0m \u001b[32m664.8/664.8 MB\u001b[0m \u001b[31m2.9 MB/s\u001b[0m eta \u001b[36m0:00:00\u001b[0m\n",
            "\u001b[?25hUsing cached nvidia_cufft_cu12-11.2.1.3-py3-none-manylinux2014_x86_64.whl (211.5 MB)\n",
            "Using cached nvidia_curand_cu12-10.3.5.147-py3-none-manylinux2014_x86_64.whl (56.3 MB)\n",
            "Using cached nvidia_cusolver_cu12-11.6.1.9-py3-none-manylinux2014_x86_64.whl (127.9 MB)\n",
            "Using cached nvidia_cusparse_cu12-12.3.1.170-py3-none-manylinux2014_x86_64.whl (207.5 MB)\n",
            "Using cached nvidia_nvjitlink_cu12-12.4.127-py3-none-manylinux2014_x86_64.whl (21.1 MB)\n",
            "Using cached transformers-4.43.4-py3-none-any.whl (9.4 MB)\n",
            "Using cached dill-0.3.9-py3-none-any.whl (119 kB)\n",
            "Using cached emoji-2.14.1-py3-none-any.whl (590 kB)\n",
            "Using cached muddler-0.1.3-py3-none-any.whl (16 kB)\n",
            "Using cached pyrsistent-0.20.0-cp311-cp311-manylinux_2_17_x86_64.manylinux2014_x86_64.whl (120 kB)\n",
            "Using cached tokenizers-0.19.1-cp311-cp311-manylinux_2_17_x86_64.manylinux2014_x86_64.whl (3.6 MB)\n",
            "Building wheels for collected packages: camel-kenlm, docopt\n",
            "  Building wheel for camel-kenlm (pyproject.toml) ... \u001b[?25l\u001b[?25hdone\n",
            "  Created wheel for camel-kenlm: filename=camel_kenlm-2024.5.6-cp311-cp311-linux_x86_64.whl size=3186750 sha256=177facb26ace18e709b257845f93803e5f23df4c20065113beba1e874c8dcfa7\n",
            "  Stored in directory: /root/.cache/pip/wheels/21/a6/a5/4f25e9750d0cddf53013b69f0e4d18930a2f89a78fc6019c97\n",
            "  Building wheel for docopt (setup.py) ... \u001b[?25l\u001b[?25hdone\n",
            "  Created wheel for docopt: filename=docopt-0.6.2-py2.py3-none-any.whl size=13706 sha256=4985a0ebc46b6df24780cfd0a152514ead5e5da343624b3ee5a5f7a2585255db\n",
            "  Stored in directory: /root/.cache/pip/wheels/1a/b0/8c/4b75c4116c31f83c8f9f047231251e13cc74481cca4a78a9ce\n",
            "Successfully built camel-kenlm docopt\n",
            "Installing collected packages: docopt, camel-kenlm, pyrsistent, nvidia-nvjitlink-cu12, nvidia-curand-cu12, nvidia-cufft-cu12, nvidia-cuda-runtime-cu12, nvidia-cuda-nvrtc-cu12, nvidia-cuda-cupti-cu12, nvidia-cublas-cu12, muddler, emoji, dill, nvidia-cusparse-cu12, nvidia-cudnn-cu12, tokenizers, nvidia-cusolver-cu12, transformers, camel-tools\n",
            "  Attempting uninstall: nvidia-nvjitlink-cu12\n",
            "    Found existing installation: nvidia-nvjitlink-cu12 12.5.82\n",
            "    Uninstalling nvidia-nvjitlink-cu12-12.5.82:\n",
            "      Successfully uninstalled nvidia-nvjitlink-cu12-12.5.82\n",
            "  Attempting uninstall: nvidia-curand-cu12\n",
            "    Found existing installation: nvidia-curand-cu12 10.3.6.82\n",
            "    Uninstalling nvidia-curand-cu12-10.3.6.82:\n",
            "      Successfully uninstalled nvidia-curand-cu12-10.3.6.82\n",
            "  Attempting uninstall: nvidia-cufft-cu12\n",
            "    Found existing installation: nvidia-cufft-cu12 11.2.3.61\n",
            "    Uninstalling nvidia-cufft-cu12-11.2.3.61:\n",
            "      Successfully uninstalled nvidia-cufft-cu12-11.2.3.61\n",
            "  Attempting uninstall: nvidia-cuda-runtime-cu12\n",
            "    Found existing installation: nvidia-cuda-runtime-cu12 12.5.82\n",
            "    Uninstalling nvidia-cuda-runtime-cu12-12.5.82:\n",
            "      Successfully uninstalled nvidia-cuda-runtime-cu12-12.5.82\n",
            "  Attempting uninstall: nvidia-cuda-nvrtc-cu12\n",
            "    Found existing installation: nvidia-cuda-nvrtc-cu12 12.5.82\n",
            "    Uninstalling nvidia-cuda-nvrtc-cu12-12.5.82:\n",
            "      Successfully uninstalled nvidia-cuda-nvrtc-cu12-12.5.82\n",
            "  Attempting uninstall: nvidia-cuda-cupti-cu12\n",
            "    Found existing installation: nvidia-cuda-cupti-cu12 12.5.82\n",
            "    Uninstalling nvidia-cuda-cupti-cu12-12.5.82:\n",
            "      Successfully uninstalled nvidia-cuda-cupti-cu12-12.5.82\n",
            "  Attempting uninstall: nvidia-cublas-cu12\n",
            "    Found existing installation: nvidia-cublas-cu12 12.5.3.2\n",
            "    Uninstalling nvidia-cublas-cu12-12.5.3.2:\n",
            "      Successfully uninstalled nvidia-cublas-cu12-12.5.3.2\n",
            "  Attempting uninstall: nvidia-cusparse-cu12\n",
            "    Found existing installation: nvidia-cusparse-cu12 12.5.1.3\n",
            "    Uninstalling nvidia-cusparse-cu12-12.5.1.3:\n",
            "      Successfully uninstalled nvidia-cusparse-cu12-12.5.1.3\n",
            "  Attempting uninstall: nvidia-cudnn-cu12\n",
            "    Found existing installation: nvidia-cudnn-cu12 9.3.0.75\n",
            "    Uninstalling nvidia-cudnn-cu12-9.3.0.75:\n",
            "      Successfully uninstalled nvidia-cudnn-cu12-9.3.0.75\n"
          ]
        }
      ]
    },
    {
      "cell_type": "markdown",
      "metadata": {
        "id": "7c8-zs9m45B0"
      },
      "source": [
        "In order to use all the components provided in CAMeL Tools, we need to install all the datasets required by these components.\n",
        "To do this in Colab, we need to first mount a Google Drive and create a directory where the data will be installed.\n",
        "\n",
        "Run the code below and follow the instructions in the output."
      ]
    },
    {
      "cell_type": "code",
      "metadata": {
        "id": "rLDEdYgz1OZN"
      },
      "source": [
        "from google.colab import drive\n",
        "import os\n",
        "\n",
        "drive.mount('/gdrive')\n",
        "\n",
        "%mkdir /gdrive/MyDrive/camel_tools"
      ],
      "execution_count": null,
      "outputs": []
    },
    {
      "cell_type": "markdown",
      "metadata": {
        "id": "Fcc0ZaAK5f5F"
      },
      "source": [
        "Next, we need to tell CAMeL Tools to install the data in the newly created directory. This will take a couple of minutes to complete.\n",
        "\n",
        "**NOTE:** You will need at least 2.3GB of available space on your Google Drive to install all the CAMeL Tools data."
      ]
    },
    {
      "cell_type": "code",
      "metadata": {
        "id": "aYsFJl0A5mua"
      },
      "source": [
        "os.environ['CAMELTOOLS_DATA'] = '/gdrive/MyDrive/camel_tools'\n",
        "\n",
        "!export | camel_data -i all"
      ],
      "execution_count": null,
      "outputs": []
    },
    {
      "cell_type": "markdown",
      "metadata": {
        "id": "0zZvcWRx6tQJ"
      },
      "source": [
        "We also provide a lightweight dataset for the Morphology and Disambiguation components **only** that can be installed by calling `camel_data -i light` instead of `camel_data -i all`.\n"
      ]
    },
    {
      "cell_type": "markdown",
      "metadata": {
        "id": "Z-O0aoMczyUj"
      },
      "source": [
        "**Once the data has been installed on your Google Drive, you only need to run the following the next time you want to run this notebook.**"
      ]
    },
    {
      "cell_type": "code",
      "metadata": {
        "id": "9knGLLGg7cnm"
      },
      "source": [
        "%pip install camel-tools\n",
        "\n",
        "from google.colab import drive\n",
        "import os\n",
        "\n",
        "drive.mount('/gdrive')\n",
        "os.environ['CAMELTOOLS_DATA'] = '/gdrive/MyDrive/camel_tools'"
      ],
      "execution_count": null,
      "outputs": []
    },
    {
      "cell_type": "markdown",
      "metadata": {
        "id": "Q2mkVx2f088f"
      },
      "source": [
        "# Preprocessing"
      ]
    },
    {
      "cell_type": "markdown",
      "metadata": {
        "id": "gBNnYjuE9T_6"
      },
      "source": [
        "CAMeL Tools provides a suite of preprocessing utilities for cleaning and preparing Arabic text. Some of these may need to be used before passing text to other CAMeL Tools components."
      ]
    },
    {
      "cell_type": "markdown",
      "metadata": {
        "id": "r-V9yJNU088w"
      },
      "source": [
        "## Simple Transliteration\n",
        "\n",
        "Simple (or one-to-one) transliteration is the process of translating each Arabic character to/from a single non-Arabic character mapping (or encoding). The most common of these encoding schemes is the Buckwalter scheme and its variants that map Arabic characters to ASCII counterparts. You can see the various encoding schemes supported in CAMeL Tools and how they map to Arabic script [here](https://camel-tools.readthedocs.io/en/latest/reference/encoding_schemes.html).\n",
        "\n",
        "This has many uses including:\n",
        "\n",
        "- Smaller size of Arabic text on disk\n",
        "- Allow non-Arabic speakers and people not familiar with Arabic script to read Arabic text\n",
        "- Easier debugging by eliminating right-to-left display issues\n",
        "\n",
        "Additionally, some Arabic NLP systems and resources use these transliteration schemes internally.\n",
        "\n",
        "The first utility we provide to convert to/from different encodings is the [`CharMapper`](https://camel-tools.readthedocs.io/en/latest/api/utils/charmap.html). In the example below, we use a `CharMapper` to convert text in Arabic script to a Buckwalter encoding."
      ]
    },
    {
      "cell_type": "code",
      "metadata": {
        "id": "2jzBCQ8A088w"
      },
      "source": [
        "from camel_tools.utils.charmap import CharMapper\n",
        "\n",
        "sentence = \"ذهبت إلى المكتبة.\"\n",
        "print(sentence)\n",
        "\n",
        "ar2bw = CharMapper.builtin_mapper('ar2bw')\n",
        "\n",
        "sent_bw = ar2bw(sentence)\n",
        "print(sent_bw)"
      ],
      "execution_count": null,
      "outputs": []
    },
    {
      "cell_type": "markdown",
      "metadata": {
        "id": "89ZesZuWKzIR"
      },
      "source": [
        "`CharMapper` is a very flexible component that can be used for many other types of text transformations and can be initialized with any character-to-string mapping."
      ]
    },
    {
      "cell_type": "markdown",
      "metadata": {
        "id": "8zHN9cNP088m"
      },
      "source": [
        "### Unicode Normalization\n",
        "\n",
        "Text in Python 3 is represented as a series of [Unicode](https://unicode.org/standard/standard.html) characters. Some characters have different variants, for example the character 'ع' can also be represented as 'ﻊ', 'ﻋ', 'ﻌ' depending on where it appears in a word. For all these forms, we would call 'ع' their canonical form. Furthermore, some Unicode characters are a composition of multiple characters and in some cases can comprise entire phrases. For example, the character 'ﰷ' is a single Unicode character that represents the composition of 'ك' and 'ا'. Unicode decomposition is the process of splitting these composed characters into their individual constituents.\n",
        "\n",
        "These variants and composed forms are generally used for display purposes and are problematic in text processing tasks. To convert Unicode text into something more suitable for text processing, we provide the [`normalize_unicode`](https://camel-tools.readthedocs.io/en/latest/api/utils/normalize.html#camel_tools.utils.normalize.normalize_unicode) function.\n",
        "\n",
        "In the example below, we demonstrate a more extreme example of how `normalize_unicode` converts a composed character into its decomposed form.\n"
      ]
    },
    {
      "cell_type": "code",
      "metadata": {
        "id": "xsR9wuFT088o"
      },
      "source": [
        "from camel_tools.utils.normalize import normalize_unicode\n",
        "\n",
        "sentence = 'ﷺ'\n",
        "print(sentence)\n",
        "\n",
        "sent_norm = normalize_unicode(sentence)\n",
        "print(sent_norm)"
      ],
      "execution_count": null,
      "outputs": []
    },
    {
      "cell_type": "markdown",
      "metadata": {
        "id": "Tbdr5KrDlQIY"
      },
      "source": [
        "**NOTE:** It is advised to run this function on all text prior to any further preprocessing or use."
      ]
    },
    {
      "cell_type": "markdown",
      "metadata": {
        "id": "fUJ8IaJo088q"
      },
      "source": [
        "### Orthographic Normalization\n",
        "\n",
        "It is common for Arabic speakers to use shortcuts when typing Arabic text.\n",
        "For example, the different variants of the letter alef ('ا', 'آ', 'أ', 'إ') may be typed as just 'ا'. Some of these substitutions can just be the result of typos. The presence of these variations can cause data sparsity and are usually normalized to a single form. Orthographic normalization is the process of converting letter variants or visually similar letters into a single form.\n",
        "\n",
        "We provide a collection of orthographic normalization functions in CAMeL Tools. The example below demonstrates a few of them."
      ]
    },
    {
      "cell_type": "code",
      "metadata": {
        "id": "hVN6ZsVV088r"
      },
      "source": [
        "from camel_tools.utils.normalize import normalize_alef_maksura_ar\n",
        "from camel_tools.utils.normalize import normalize_alef_ar\n",
        "from camel_tools.utils.normalize import normalize_teh_marbuta_ar\n",
        "\n",
        "sentence = \"هل ذهبت إلى المكتبة؟\"\n",
        "print(sentence)\n",
        "\n",
        "# Normalize alef variants to 'ا'\n",
        "sent_norm = normalize_alef_ar(sentence)\n",
        "print(sent_norm)\n",
        "\n",
        "# Normalize alef maksura 'ى' to yeh 'ي'\n",
        "sent_norm = normalize_alef_maksura_ar(sent_norm)\n",
        "print(sent_norm)\n",
        "\n",
        "# Normalize teh marbuta 'ة' to heh 'ه'\n",
        "sent_norm = normalize_teh_marbuta_ar(sent_norm)\n",
        "print(sent_norm)"
      ],
      "execution_count": null,
      "outputs": []
    },
    {
      "cell_type": "markdown",
      "metadata": {
        "id": "rawo1cAJPCOC"
      },
      "source": [
        "The example above performs orthographic normalization on Arabic script. We provide variants of these functions for other encoding schemes as well (e.g. Buckwalter, Safe Buckwalter, etc). See [here](https://camel-tools.readthedocs.io/en/latest/api/utils/normalize.html) for more information.\n"
      ]
    },
    {
      "cell_type": "markdown",
      "metadata": {
        "id": "vhD5hMgA088t"
      },
      "source": [
        "## Dediacritization\n",
        "\n",
        "Dediacritization is the process of removing Arabic diacritical marks. Diacritics increase data sparsity and so most Arabic NLP techniques ignore them. The example below shows how diacritics can be removed from Arabic text using the [`dediac_ar`](https://camel-tools.readthedocs.io/en/latest/api/utils/dediac.html#camel_tools.utils.dediac.dediac_ar) function:"
      ]
    },
    {
      "cell_type": "code",
      "metadata": {
        "id": "Np_JWmFq088u"
      },
      "source": [
        "from camel_tools.utils.dediac import dediac_ar\n",
        "\n",
        "sentence = \"هَلْ ذَهَبْتَ إِلَى المَكْتَبَةِ؟\"\n",
        "print(sentence)\n",
        "\n",
        "sent_dediac = dediac_ar(sentence)\n",
        "print(sent_dediac)"
      ],
      "execution_count": null,
      "outputs": []
    },
    {
      "cell_type": "markdown",
      "metadata": {
        "id": "i2I9gP03CHrR"
      },
      "source": [
        "We provide dediacritization functions for other encoding schemes (eg. Buckwalter, Safe Buckwalter, etc) which you can learn more about [here](https://camel-tools.readthedocs.io/en/latest/api/utils/dediac.html).\n"
      ]
    },
    {
      "cell_type": "markdown",
      "metadata": {
        "id": "wQw096Uw088u"
      },
      "source": [
        "## Word Tokenization"
      ]
    },
    {
      "cell_type": "markdown",
      "metadata": {
        "id": "7-Dr0J4W_-Bp"
      },
      "source": [
        "Some CAMeL Tools components expect text to be pretokenized by whitespace and punctuation. This means that an input sentence should be an array of words and punctuation instead of a single string. This is to preserve the alignment of inputs and outputs.\n",
        "\n",
        "Python does provide the `split()` method to tokenize words by whitespace but it doesn't seperate punctuation from words. For example:"
      ]
    },
    {
      "cell_type": "code",
      "metadata": {
        "id": "zqLIIGGim5nm"
      },
      "source": [
        "sentence = \"هَلْ ذَهَبْتَ إِلَى المَكْتَبَةِ؟\"\n",
        "print(sentence)\n",
        "\n",
        "sent_split = sentence.split()\n",
        "print(sent_split)"
      ],
      "execution_count": null,
      "outputs": []
    },
    {
      "cell_type": "markdown",
      "metadata": {
        "id": "6Sju7VQ6m3h5"
      },
      "source": [
        "To split by whitespace and seperate punctuation, we currently provide the utility function [`simple_word_tokenize`](https://camel-tools.readthedocs.io/en/latest/api/tokenizers/word.html#camel_tools.tokenizers.word.simple_word_tokenize). The example below is similar to the one above, but this time we use `simple_word_tokenize()` instead of `split()`."
      ]
    },
    {
      "cell_type": "code",
      "metadata": {
        "id": "WxbPNRCU088v"
      },
      "source": [
        "from camel_tools.tokenizers.word import simple_word_tokenize\n",
        "\n",
        "sentence = \"هَلْ ذَهَبْتَ إِلَى المَكْتَبَةِ؟\"\n",
        "print(sentence)\n",
        "\n",
        "sent_split = simple_word_tokenize(sentence)\n",
        "print(sent_split)"
      ],
      "execution_count": null,
      "outputs": []
    },
    {
      "cell_type": "markdown",
      "metadata": {
        "id": "7AMRqZE9A8tj"
      },
      "source": [
        "**NOTE:** `simple_word_tokenize`, as the name suggests is very simple and does not do anything fancy. It will seperate all punctuation regardless of context (ie. hashtags, emails, abbreviations, etc.)"
      ]
    },
    {
      "cell_type": "markdown",
      "metadata": {
        "id": "Nv4xaPCX088y"
      },
      "source": [
        "# Morphology"
      ]
    },
    {
      "cell_type": "markdown",
      "metadata": {
        "id": "-7zdJFwRDUQ1"
      },
      "source": [
        "CAMeL Tools provides a powerful morphological analysis, generation and reinflection system. This system is powered by [morphological databases](https://camel-tools.readthedocs.io/en/latest/api/morphology/database.html#databases) that are comprised of lexicons and compatibility tables. See [here](https://www.aclweb.org/anthology/W18-5816.pdf) for more details."
      ]
    },
    {
      "cell_type": "markdown",
      "metadata": {
        "id": "si9YcVbY088z"
      },
      "source": [
        "## Analysis\n"
      ]
    },
    {
      "cell_type": "markdown",
      "metadata": {
        "id": "U7JXVSeA8-rr"
      },
      "source": [
        "Morphological analysis is the process of generating all possible readings (analyses) of a given word out of context. All analyses are generated from the undiacritized form of the input word. Each of these analyses is defined by a set lexical and morphological features."
      ]
    },
    {
      "cell_type": "code",
      "metadata": {
        "id": "MtzSgEBl088z"
      },
      "source": [
        "from camel_tools.morphology.database import MorphologyDB\n",
        "from camel_tools.morphology.analyzer import Analyzer\n",
        "\n",
        "# First, we need to load a morphological database.\n",
        "# Here, we load the default database which is used for analyzing\n",
        "# Modern Standard Arabic.\n",
        "db = MorphologyDB.builtin_db()\n",
        "\n",
        "analyzer = Analyzer(db)\n",
        "\n",
        "analyses = analyzer.analyze('شربت اسماء العصائر')\n",
        "\n",
        "for analysis in analyses:\n",
        "    print(analysis, '\\n')"
      ],
      "execution_count": null,
      "outputs": []
    },
    {
      "cell_type": "markdown",
      "metadata": {
        "id": "X3KV4vNDDtG8"
      },
      "source": [
        "Let's examine just one of the output analyses generated from another word ('وسيكتبونها') to get a better idea of the verious morphological and lexical features that we provide. We provide a [handy reference page](https://camel-tools.readthedocs.io/en/latest/reference/camel_morphology_features.html) that explains what these features are and what their values mean."
      ]
    },
    {
      "cell_type": "markdown",
      "metadata": {
        "id": "EcfmX4eZ088z"
      },
      "source": [
        "```\n",
        "diac: وَسَيَكْتُبُونَها\n",
        "lex: كَتَب-u_1\n",
        "bw: وَ/CONJ+سَ/FUT_PART+يَ/IV3MP+كْتُب/IV+ُونَ/IVSUFF_SUBJ:MP_MOOD:I+ها/IVSUFF_DO:3FS\n",
        "gloss: and_+_will_+_they_(people)+write+it;them;her\n",
        "pos: verb\n",
        "prc3: 0\n",
        "prc2: wa_conj\n",
        "prc1: sa_fut\n",
        "prc0: 0\n",
        "per: 3\n",
        "asp: i\n",
        "vox: a\n",
        "mod: i\n",
        "stt: na\n",
        "cas: na\n",
        "enc0: 3fs_dobj\n",
        "rat: n\n",
        "source: lex\n",
        "form_gen: m\n",
        "form_num: p\n",
        "pattern: وَسَيَ1ْ2ُ3ُونَها\n",
        "root: ك.ت.ب\n",
        "catib6: PRT+PRT+VRB+NOM\n",
        "ud: CONJ+AUX+VERB+PRON\n",
        "d1seg: وَ+_سَيَكْتُبُونَها\n",
        "d1tok: وَ+_سَيَكْتُبُونَها\n",
        "atbseg: وَ+_سَ+_يَكْتُبُونَ_+ها\n",
        "d3seg: وَ+_سَ+_يَكْتُبُونَ_+ها\n",
        "d2seg: وَ+_سَ+_يَكْتُبُونَها\n",
        "d2tok: وَ+_سَ+_يَكْتُبُونَها\n",
        "atbtok: وَ+_سَ+_يَكْتُبُونَ_+ها\n",
        "d3tok: وَ+_سَ+_يَكْتُبُونَ_+ها\n",
        "bwtok: وَ+_سَ+_يَ+_كْتُب_+ُونَ_+ها\n",
        "pos_lex_logprob: -3.648503\n",
        "caphi: w_a_s_a_y_a_k_t_u_b_uu_n_a_h_aa\n",
        "pos_logprob: -1.023208\n",
        "gen: m\n",
        "lex_logprob: -3.648503\n",
        "num: p\n",
        "stem: كْتُب\n",
        "stemgloss: write\n",
        "stemcat: IV\n",
        "```"
      ]
    },
    {
      "cell_type": "markdown",
      "metadata": {
        "id": "UfO9gxQy0880"
      },
      "source": [
        "## Generation\n",
        "\n",
        "Generation is the process of inflecting a lemma\n",
        "for a set of morphological features. The example below generates all the possible inflections for the lemma 'مُوَظَّف' (employee) that are masculine plural nouns."
      ]
    },
    {
      "cell_type": "code",
      "metadata": {
        "id": "ESM-zdQ50881"
      },
      "source": [
        "from camel_tools.morphology.database import MorphologyDB\n",
        "from camel_tools.morphology.generator import Generator\n",
        "\n",
        "# We need to indicate that the database we are loading will be\n",
        "# used for generation.\n",
        "db = MorphologyDB.builtin_db(flags='g')\n",
        "\n",
        "generator = Generator(db)\n",
        "\n",
        "lemma = 'مُوَظَّف'\n",
        "features = {\n",
        "    'pos': 'noun',\n",
        "    'gen': 'm',\n",
        "    'num': 'p'\n",
        "}\n",
        "\n",
        "analyses = generator.generate(lemma, features)\n",
        "\n",
        "# Extract and print unique diacritizations from generated analyses\n",
        "for diac in set([a['diac'] for a in analyses]):\n",
        "    print(diac)"
      ],
      "execution_count": null,
      "outputs": []
    },
    {
      "cell_type": "markdown",
      "metadata": {
        "id": "kHa3zXmnFl15"
      },
      "source": [
        "**NOTE:** `'pos'` is the only *required* feature that needs to be specified."
      ]
    },
    {
      "cell_type": "markdown",
      "metadata": {
        "id": "0Z45XwXQ0881"
      },
      "source": [
        "## Reinflection\n",
        "\n",
        "Reinflection is the process of converting a given word in any form to a different form (i.e. tense, gender, etc). The CAMeL Tools reinflector works similar to the generator except that the word doesn't have to be a lemma and it is not have to be restricted to a specific `'pos'`. The example below reinflects the word 'شوارع' (streets) into its dual form with a proclitic 'ب'."
      ]
    },
    {
      "cell_type": "code",
      "metadata": {
        "id": "gAffYSc60881"
      },
      "source": [
        "from camel_tools.morphology.database import MorphologyDB\n",
        "from camel_tools.morphology.reinflector import Reinflector\n",
        "\n",
        "# We need to indicate that the database we are loading will be\n",
        "# used for reinflection.\n",
        "db = MorphologyDB.builtin_db(flags='r')\n",
        "\n",
        "reinflector = Reinflector(db)\n",
        "\n",
        "word = 'شوارع'\n",
        "features = {\n",
        "    'num': 'd',\n",
        "    'prc1': 'bi_prep'\n",
        "}\n",
        "\n",
        "analyses = reinflector.reinflect(word, features)\n",
        "\n",
        "# Extract and print unique diacritizations from reinflected analyses\n",
        "for diac in set([a['diac'] for a in analyses]):\n",
        "    print(diac)"
      ],
      "execution_count": null,
      "outputs": []
    },
    {
      "cell_type": "markdown",
      "metadata": {
        "id": "XYTXsWdA0882"
      },
      "source": [
        "# Disambiguation"
      ]
    },
    {
      "cell_type": "markdown",
      "metadata": {
        "id": "AQgWp4XiGIUT"
      },
      "source": [
        "Disambiguation is the process of determining what is the most likely analysis of a word in a given context. In CAMeL Tools, disambiguation is the backbone for many Arabic NLP tasks such as diacritization, POS tagging and morphological tokenization. At the moment, we provide a disambiguator that uses a Maximum Likelihood Estimation model, [`MLEDisambiguator`](https://camel-tools.readthedocs.io/en/latest/api/disambig/mle.html#camel_tools.disambig.mle.MLEDisambiguator). More advanced disambiguation techniques will be added to CAMeL Tools in the near future.\n",
        "\n",
        "In the example below, we use a disambiguator to compute the most likely diacritization, POS tag, and lemma for all words in a given sentence."
      ]
    },
    {
      "cell_type": "code",
      "metadata": {
        "id": "XRic4ub10888"
      },
      "source": [
        "from camel_tools.tokenizers.word import simple_word_tokenize\n",
        "from camel_tools.disambig.mle import MLEDisambiguator\n",
        "\n",
        "mle = MLEDisambiguator.pretrained()\n",
        "\n",
        "# The disambiguator expects pre-tokenized text\n",
        "sentence = simple_word_tokenize('نجح بايدن في الانتخابات')\n",
        "\n",
        "disambig = mle.disambiguate(sentence)\n",
        "\n",
        "# For each disambiguated word d in disambig, d.analyses is a list of analyses\n",
        "# sorted from most likely to least likely. Therefore, d.analyses[0] would\n",
        "# be the most likely analysis for a given word. Below we extract different\n",
        "# features from the top analysis of each disambiguated word into seperate lists.\n",
        "diacritized = [d.analyses[0].analysis['diac'] for d in disambig]\n",
        "pos_tags = [d.analyses[0].analysis['pos'] for d in disambig]\n",
        "lemmas = [d.analyses[0].analysis['lex'] for d in disambig]\n",
        "\n",
        "# Print the combined feature values extracted above\n",
        "for triplet in zip(diacritized, pos_tags, lemmas):\n",
        "    print(triplet)\n"
      ],
      "execution_count": null,
      "outputs": []
    },
    {
      "cell_type": "markdown",
      "metadata": {
        "id": "kMTRdw4g0888"
      },
      "source": [
        "# Tagging"
      ]
    },
    {
      "cell_type": "markdown",
      "metadata": {
        "id": "YoYy16RApKQX"
      },
      "source": [
        "The disambiguation example above is not very readable due to the amount of list and dictionary dereferencing just to extract a feature.\n",
        "Additionally, for general tagging applications, extracting a feature from the top analysis is not sufficient.\n",
        "There are some edge cases that need to be handled. For example, a word could return no analyses at all if the word isn't in the morphological database. We would then need to check the result of each disambiguated word to see if an analysis exists and then output some default value if not. Furthermore, the default value would differ depending on what feature we are tagging.\n",
        "\n",
        "To handle these edge cases and to simplify the usage of a disambiguator, we provide the [`DefaultTagger`](https://camel-tools.readthedocs.io/en/latest/api/tagger/default.html#camel_tools.tagger.default.DefaultTagger) class which wraps a disambiguator and handles edge cases by providing sensible default values. The example below shows"
      ]
    },
    {
      "cell_type": "code",
      "metadata": {
        "id": "6ToGeNYB0889"
      },
      "source": [
        "from camel_tools.tokenizers.word import simple_word_tokenize\n",
        "from camel_tools.disambig.mle import MLEDisambiguator\n",
        "from camel_tools.tagger.default import DefaultTagger\n",
        "\n",
        "mle = MLEDisambiguator.pretrained()\n",
        "tagger = DefaultTagger(mle, 'pos')\n",
        "\n",
        "# The tagger expects pre-tokenized text\n",
        "sentence = simple_word_tokenize('نجح بايدن في الانتخابات')\n",
        "\n",
        "pos_tags = tagger.tag(sentence)\n",
        "\n",
        "print(pos_tags)"
      ],
      "execution_count": null,
      "outputs": []
    },
    {
      "cell_type": "markdown",
      "metadata": {
        "id": "7uuXeQjd0889"
      },
      "source": [
        "# Morphological Tokenization"
      ]
    },
    {
      "cell_type": "markdown",
      "metadata": {
        "id": "KmeKhpPVsI69"
      },
      "source": [
        "Previously we discussed word tokenization as the process of splitting sentences by whitspace and seperating punctuation. Another type of tokenization is morphological tokenization whereby Arabic words are split into component prefixes, stems, and suffixes.\n",
        "\n",
        "There are also different tokenization schemes for Arabic each having different use cases.\n",
        "\n",
        "We provide the [`MorphologicalTokenizer`](https://camel-tools.readthedocs.io/en/latest/api/tokenizers/morphological.html#camel_tools.tokenizers.morphological.MorphologicalTokenizer) class to tokenize words in different schemes. It behaves very much like the `DefaultTagger` in that it uses a disambiguator to first disambiguate words and then extracts a particular tokenization feature, but it has the following differences:\n",
        "\n",
        "- While the `DefaultTagger` produces exactly one output for each input word, the `MorphologicalTokenizer` might produce multiple output tokens.\n",
        "-  The `MorphologicalTokenizer` can be configured to produce diacritized and undiacritized output."
      ]
    },
    {
      "cell_type": "code",
      "metadata": {
        "id": "Upf_eeVE0889"
      },
      "source": [
        "from camel_tools.tokenizers.word import simple_word_tokenize\n",
        "from camel_tools.disambig.mle import MLEDisambiguator\n",
        "from camel_tools.tokenizers.morphological import MorphologicalTokenizer\n",
        "\n",
        "# The tokenizer expects pre-tokenized text\n",
        "sentence = simple_word_tokenize('فتنفست الصعداء')\n",
        "print(sentence)\n",
        "\n",
        "# Load a pretrained disambiguator to use with a tokenizer\n",
        "mle = MLEDisambiguator.pretrained('calima-msa-r13')\n",
        "\n",
        "# Without providing additional arguments, the tokenizer will output undiacritized\n",
        "# morphological tokens for each input word delimited by an underscore.\n",
        "tokenizer = MorphologicalTokenizer(mle, scheme='d3tok')\n",
        "tokens = tokenizer.tokenize(sentence)\n",
        "print(tokens)\n",
        "\n",
        "# By specifying `split=True`, the morphological tokens are output as seperate\n",
        "# strings.\n",
        "tokenizer = MorphologicalTokenizer(mle, scheme='d3tok', split=True)\n",
        "tokens = tokenizer.tokenize(sentence)\n",
        "print(tokens)\n",
        "\n",
        "# We can output diacritized tokens by setting `diac=True`\n",
        "tokenizer = MorphologicalTokenizer(mle, scheme='d3tok', split=True, diac=True)\n",
        "tokens = tokenizer.tokenize(sentence)\n",
        "print(tokens)"
      ],
      "execution_count": null,
      "outputs": []
    },
    {
      "cell_type": "markdown",
      "metadata": {
        "id": "MaxVSNFH5QHi"
      },
      "source": [
        "We can see a list of supported tokenization schemes by calling the `mle.tok_feats()`.\n",
        "\n",
        "**NOTE:** Different morphological databases will have differing support for each of these tokenization schemes."
      ]
    },
    {
      "cell_type": "code",
      "metadata": {
        "id": "Pb9dvHok43XH"
      },
      "source": [
        "print(list(mle.tok_feats()))"
      ],
      "execution_count": null,
      "outputs": []
    },
    {
      "cell_type": "markdown",
      "metadata": {
        "id": "e7hm9JjJ40u8"
      },
      "source": [
        "Try running the previous example using a different scheme than 'd3tok' to see how the output tokenization might vary."
      ]
    },
    {
      "cell_type": "markdown",
      "metadata": {
        "id": "-GMeBGri088-"
      },
      "source": [
        "# Dialect Identification\n",
        "\n",
        "We provide a pretrained dialect identification system that can distinguish between 25 city dialects as well as Modern Standard Arabic. The model can be accessed using the [`DialectIdentifier`](https://camel-tools.readthedocs.io/en/latest/api/dialectid.html#camel_tools.dialectid.DialectIdentifier) class. In addition to city dialects, we can provide results aggregated by region and by country. While these agregated results are less fine-grained, they tend to be more accurate.\n",
        "\n",
        "The example below illustrates how `DialectIdentifier` can be used to predict the dialects of given sentences by city, country and region.\n",
        "\n",
        "**NOTE:** You may get some warnings when running the example below in Colab. These can be safely ignored."
      ]
    },
    {
      "cell_type": "code",
      "metadata": {
        "id": "9YpWxBAm088-"
      },
      "source": [
        "from camel_tools.dialectid import DialectIdentifier\n",
        "\n",
        "did = DialectIdentifier.pretrained()\n",
        "\n",
        "sentences = [\n",
        "    'مال الهوى و مالي شكون اللي جابني ليك  ما كنت انايا ف حالي بلاو قلبي يانا بيك',\n",
        "    'بدي دوب قلي قلي بجنون بحبك انا مجنون ما بنسى حبك يوم'\n",
        "]\n",
        "\n",
        "predictions = did.predict(sentences, 'city')\n",
        "print([p.top for p in predictions])\n",
        "\n",
        "predictions = did.predict(sentences, 'country')\n",
        "print([p.top for p in predictions])\n",
        "\n",
        "predictions = did.predict(sentences, 'region')\n",
        "print([p.top for p in predictions])"
      ],
      "execution_count": null,
      "outputs": []
    },
    {
      "cell_type": "markdown",
      "metadata": {
        "id": "IiIPcZcx088_"
      },
      "source": [
        "# Sentiment Analysis\n",
        "\n",
        "We provide a pretrained [sentiment analysis](https://en.wikipedia.org/wiki/Sentiment_analysis) system that has been trained using a combination of multiple data sets. The model can be accessed using the [`SentimentAnalyzer`](https://camel-tools.readthedocs.io/en/latest/api/sentiment.html#camel_tools.sentiment.SentimentAnalyzer) class and it outputs one of three sentiment tags for each sentence: `'positive'`, `'negative'` and `'neutral'`. The example below demonstrates how it can be used."
      ]
    },
    {
      "cell_type": "code",
      "metadata": {
        "id": "nWSDfRYd088_"
      },
      "source": [
        "from camel_tools.sentiment import SentimentAnalyzer\n",
        "\n",
        "sa = SentimentAnalyzer.pretrained()\n",
        "\n",
        "sentences = [\n",
        "    'أنا بخير',\n",
        "    'أنا لست بخير'\n",
        "]\n",
        "\n",
        "sentiments = sa.predict(sentences)\n",
        "\n",
        "print(sentiments)"
      ],
      "execution_count": null,
      "outputs": []
    },
    {
      "cell_type": "markdown",
      "metadata": {
        "id": "1jo6RMNz088_"
      },
      "source": [
        "# Named Entitiy Recognition\n",
        "\n",
        "CAMeL Tools comes with an easy-to-use, pretrained [named-entitity recognition](https://en.wikipedia.org/wiki/Named-entity_recognition)  (NER) system that can be accessed using the [`NERecognizer`](https://camel-tools.readthedocs.io/en/latest/api/ner.html#camel_tools.ner.NERecognizer) class.\n",
        "\n",
        "For each token in an input sentence, `NERecognizer` outputs a label that indicates the type of named-entity.The system outputs one of the following labels for each token: `'B-LOC'`, `'B-ORG'`, `'B-PERS'`, `'B-MISC'`, `'I-LOC'`, `'I-ORG'`, `'I-PERS'`, `'I-MISC'`, `'O'`.\n",
        "Named-entites can either be a `LOC` (location), `ORG` (organization), `PERS` (person), or `MISC` (miscallaneous).\n",
        "\n",
        "Labels beginning with `B` indicate that their corresponding tokens are the begininging of a multi-word named-entity or is a single-token named-entity'. Those begining with `I` indicate that their corresponding tokens are continuations of a multi-word named-entity. Words that aren't named-entities are given the `'O'` label.\n",
        "\n",
        "The example below illustrates how `NERecognizer` can be used to label named-entities in a given sentence.\n"
      ]
    },
    {
      "cell_type": "code",
      "metadata": {
        "id": "gwBGDtiY088_"
      },
      "source": [
        "from camel_tools.tokenizers.word import simple_word_tokenize\n",
        "from camel_tools.ner import NERecognizer\n",
        "\n",
        "ner = NERecognizer.pretrained()\n",
        "\n",
        "# NERecognizer expects pre-tokenized text\n",
        "sentence = simple_word_tokenize('إمارة أبوظبي هي إحدى إمارات دولة الإمارات العربية المتحدة السبع.')\n",
        "\n",
        "labels = ner.predict_sentence(sentence)\n",
        "\n",
        "# Print each token paired with it's NER label\n",
        "print(list(zip(sentence, labels)))"
      ],
      "execution_count": null,
      "outputs": []
    }
  ]
}